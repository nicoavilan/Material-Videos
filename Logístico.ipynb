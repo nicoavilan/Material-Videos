{
  "nbformat": 4,
  "nbformat_minor": 0,
  "metadata": {
    "colab": {
      "name": "Logístico.ipynb",
      "provenance": [],
      "authorship_tag": "ABX9TyPjajdDD/QyUMv4/5FbVYzE",
      "include_colab_link": true
    },
    "kernelspec": {
      "name": "python3",
      "display_name": "Python 3"
    },
    "widgets": {
      "application/vnd.jupyter.widget-state+json": {
        "4f90f5a469f1479db2a5ea4830e7ae75": {
          "model_module": "@jupyter-widgets/controls",
          "model_name": "VBoxModel",
          "state": {
            "_view_name": "VBoxView",
            "_dom_classes": [
              "widget-interact"
            ],
            "_model_name": "VBoxModel",
            "_view_module": "@jupyter-widgets/controls",
            "_model_module_version": "1.5.0",
            "_view_count": null,
            "_view_module_version": "1.5.0",
            "box_style": "",
            "layout": "IPY_MODEL_2882fdd538c54aa2b70eae3f0d46578d",
            "_model_module": "@jupyter-widgets/controls",
            "children": [
              "IPY_MODEL_2c8075020b644d6a8db0c7ca039fc870",
              "IPY_MODEL_ca128c910b014fecbf397eecc9c29085",
              "IPY_MODEL_6706fec71d14427d93893ba0dad9011c",
              "IPY_MODEL_23cf014163074ff79e454d671e1f0b5c"
            ]
          }
        },
        "2882fdd538c54aa2b70eae3f0d46578d": {
          "model_module": "@jupyter-widgets/base",
          "model_name": "LayoutModel",
          "state": {
            "_view_name": "LayoutView",
            "grid_template_rows": null,
            "right": null,
            "justify_content": null,
            "_view_module": "@jupyter-widgets/base",
            "overflow": null,
            "_model_module_version": "1.2.0",
            "_view_count": null,
            "flex_flow": null,
            "width": null,
            "min_width": null,
            "border": null,
            "align_items": null,
            "bottom": null,
            "_model_module": "@jupyter-widgets/base",
            "top": null,
            "grid_column": null,
            "overflow_y": null,
            "overflow_x": null,
            "grid_auto_flow": null,
            "grid_area": null,
            "grid_template_columns": null,
            "flex": null,
            "_model_name": "LayoutModel",
            "justify_items": null,
            "grid_row": null,
            "max_height": null,
            "align_content": null,
            "visibility": null,
            "align_self": null,
            "height": null,
            "min_height": null,
            "padding": null,
            "grid_auto_rows": null,
            "grid_gap": null,
            "max_width": null,
            "order": null,
            "_view_module_version": "1.2.0",
            "grid_template_areas": null,
            "object_position": null,
            "object_fit": null,
            "grid_auto_columns": null,
            "margin": null,
            "display": null,
            "left": null
          }
        },
        "2c8075020b644d6a8db0c7ca039fc870": {
          "model_module": "@jupyter-widgets/controls",
          "model_name": "FloatSliderModel",
          "state": {
            "_view_name": "FloatSliderView",
            "style": "IPY_MODEL_bf68990ebd7b4d70ba5463fa28104ba3",
            "_dom_classes": [],
            "description": "P0",
            "step": 0.1,
            "_model_name": "FloatSliderModel",
            "orientation": "horizontal",
            "max": 30,
            "_view_module": "@jupyter-widgets/controls",
            "_model_module_version": "1.5.0",
            "value": 15,
            "_view_count": null,
            "disabled": false,
            "_view_module_version": "1.5.0",
            "min": 0,
            "continuous_update": true,
            "readout_format": ".2f",
            "description_tooltip": null,
            "readout": true,
            "_model_module": "@jupyter-widgets/controls",
            "layout": "IPY_MODEL_44dcedf64c294dd8a47752d4a48dede4"
          }
        },
        "ca128c910b014fecbf397eecc9c29085": {
          "model_module": "@jupyter-widgets/controls",
          "model_name": "FloatSliderModel",
          "state": {
            "_view_name": "FloatSliderView",
            "style": "IPY_MODEL_a4193a8369a34401baaaccf0a4557eef",
            "_dom_classes": [],
            "description": "k",
            "step": 0.1,
            "_model_name": "FloatSliderModel",
            "orientation": "horizontal",
            "max": 5,
            "_view_module": "@jupyter-widgets/controls",
            "_model_module_version": "1.5.0",
            "value": 2.5,
            "_view_count": null,
            "disabled": false,
            "_view_module_version": "1.5.0",
            "min": 0,
            "continuous_update": true,
            "readout_format": ".2f",
            "description_tooltip": null,
            "readout": true,
            "_model_module": "@jupyter-widgets/controls",
            "layout": "IPY_MODEL_29355b873d6c467dbf13a38b8599e427"
          }
        },
        "6706fec71d14427d93893ba0dad9011c": {
          "model_module": "@jupyter-widgets/controls",
          "model_name": "IntSliderModel",
          "state": {
            "_view_name": "IntSliderView",
            "style": "IPY_MODEL_fca357478a6741b8be10ec20289e04bd",
            "_dom_classes": [],
            "description": "M",
            "step": 1,
            "_model_name": "IntSliderModel",
            "orientation": "horizontal",
            "max": 200,
            "_view_module": "@jupyter-widgets/controls",
            "_model_module_version": "1.5.0",
            "value": 200,
            "_view_count": null,
            "disabled": false,
            "_view_module_version": "1.5.0",
            "min": 100,
            "continuous_update": true,
            "readout_format": "d",
            "description_tooltip": null,
            "readout": true,
            "_model_module": "@jupyter-widgets/controls",
            "layout": "IPY_MODEL_51f56a4ee1d24395a79bd634ccb6b777"
          }
        },
        "23cf014163074ff79e454d671e1f0b5c": {
          "model_module": "@jupyter-widgets/output",
          "model_name": "OutputModel",
          "state": {
            "_view_name": "OutputView",
            "msg_id": "",
            "_dom_classes": [],
            "_model_name": "OutputModel",
            "outputs": [
              {
                "output_type": "display_data",
                "metadata": {
                  "tags": [],
                  "needs_background": "light"
                },
                "image/png": "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\n",
                "text/plain": "<Figure size 720x288 with 2 Axes>"
              }
            ],
            "_view_module": "@jupyter-widgets/output",
            "_model_module_version": "1.0.0",
            "_view_count": null,
            "_view_module_version": "1.0.0",
            "layout": "IPY_MODEL_b134cb79cb254c0187290ec689419051",
            "_model_module": "@jupyter-widgets/output"
          }
        },
        "bf68990ebd7b4d70ba5463fa28104ba3": {
          "model_module": "@jupyter-widgets/controls",
          "model_name": "SliderStyleModel",
          "state": {
            "_view_name": "StyleView",
            "handle_color": null,
            "_model_name": "SliderStyleModel",
            "description_width": "",
            "_view_module": "@jupyter-widgets/base",
            "_model_module_version": "1.5.0",
            "_view_count": null,
            "_view_module_version": "1.2.0",
            "_model_module": "@jupyter-widgets/controls"
          }
        },
        "44dcedf64c294dd8a47752d4a48dede4": {
          "model_module": "@jupyter-widgets/base",
          "model_name": "LayoutModel",
          "state": {
            "_view_name": "LayoutView",
            "grid_template_rows": null,
            "right": null,
            "justify_content": null,
            "_view_module": "@jupyter-widgets/base",
            "overflow": null,
            "_model_module_version": "1.2.0",
            "_view_count": null,
            "flex_flow": null,
            "width": null,
            "min_width": null,
            "border": null,
            "align_items": null,
            "bottom": null,
            "_model_module": "@jupyter-widgets/base",
            "top": null,
            "grid_column": null,
            "overflow_y": null,
            "overflow_x": null,
            "grid_auto_flow": null,
            "grid_area": null,
            "grid_template_columns": null,
            "flex": null,
            "_model_name": "LayoutModel",
            "justify_items": null,
            "grid_row": null,
            "max_height": null,
            "align_content": null,
            "visibility": null,
            "align_self": null,
            "height": null,
            "min_height": null,
            "padding": null,
            "grid_auto_rows": null,
            "grid_gap": null,
            "max_width": null,
            "order": null,
            "_view_module_version": "1.2.0",
            "grid_template_areas": null,
            "object_position": null,
            "object_fit": null,
            "grid_auto_columns": null,
            "margin": null,
            "display": null,
            "left": null
          }
        },
        "a4193a8369a34401baaaccf0a4557eef": {
          "model_module": "@jupyter-widgets/controls",
          "model_name": "SliderStyleModel",
          "state": {
            "_view_name": "StyleView",
            "handle_color": null,
            "_model_name": "SliderStyleModel",
            "description_width": "",
            "_view_module": "@jupyter-widgets/base",
            "_model_module_version": "1.5.0",
            "_view_count": null,
            "_view_module_version": "1.2.0",
            "_model_module": "@jupyter-widgets/controls"
          }
        },
        "29355b873d6c467dbf13a38b8599e427": {
          "model_module": "@jupyter-widgets/base",
          "model_name": "LayoutModel",
          "state": {
            "_view_name": "LayoutView",
            "grid_template_rows": null,
            "right": null,
            "justify_content": null,
            "_view_module": "@jupyter-widgets/base",
            "overflow": null,
            "_model_module_version": "1.2.0",
            "_view_count": null,
            "flex_flow": null,
            "width": null,
            "min_width": null,
            "border": null,
            "align_items": null,
            "bottom": null,
            "_model_module": "@jupyter-widgets/base",
            "top": null,
            "grid_column": null,
            "overflow_y": null,
            "overflow_x": null,
            "grid_auto_flow": null,
            "grid_area": null,
            "grid_template_columns": null,
            "flex": null,
            "_model_name": "LayoutModel",
            "justify_items": null,
            "grid_row": null,
            "max_height": null,
            "align_content": null,
            "visibility": null,
            "align_self": null,
            "height": null,
            "min_height": null,
            "padding": null,
            "grid_auto_rows": null,
            "grid_gap": null,
            "max_width": null,
            "order": null,
            "_view_module_version": "1.2.0",
            "grid_template_areas": null,
            "object_position": null,
            "object_fit": null,
            "grid_auto_columns": null,
            "margin": null,
            "display": null,
            "left": null
          }
        },
        "fca357478a6741b8be10ec20289e04bd": {
          "model_module": "@jupyter-widgets/controls",
          "model_name": "SliderStyleModel",
          "state": {
            "_view_name": "StyleView",
            "handle_color": null,
            "_model_name": "SliderStyleModel",
            "description_width": "",
            "_view_module": "@jupyter-widgets/base",
            "_model_module_version": "1.5.0",
            "_view_count": null,
            "_view_module_version": "1.2.0",
            "_model_module": "@jupyter-widgets/controls"
          }
        },
        "51f56a4ee1d24395a79bd634ccb6b777": {
          "model_module": "@jupyter-widgets/base",
          "model_name": "LayoutModel",
          "state": {
            "_view_name": "LayoutView",
            "grid_template_rows": null,
            "right": null,
            "justify_content": null,
            "_view_module": "@jupyter-widgets/base",
            "overflow": null,
            "_model_module_version": "1.2.0",
            "_view_count": null,
            "flex_flow": null,
            "width": null,
            "min_width": null,
            "border": null,
            "align_items": null,
            "bottom": null,
            "_model_module": "@jupyter-widgets/base",
            "top": null,
            "grid_column": null,
            "overflow_y": null,
            "overflow_x": null,
            "grid_auto_flow": null,
            "grid_area": null,
            "grid_template_columns": null,
            "flex": null,
            "_model_name": "LayoutModel",
            "justify_items": null,
            "grid_row": null,
            "max_height": null,
            "align_content": null,
            "visibility": null,
            "align_self": null,
            "height": null,
            "min_height": null,
            "padding": null,
            "grid_auto_rows": null,
            "grid_gap": null,
            "max_width": null,
            "order": null,
            "_view_module_version": "1.2.0",
            "grid_template_areas": null,
            "object_position": null,
            "object_fit": null,
            "grid_auto_columns": null,
            "margin": null,
            "display": null,
            "left": null
          }
        },
        "b134cb79cb254c0187290ec689419051": {
          "model_module": "@jupyter-widgets/base",
          "model_name": "LayoutModel",
          "state": {
            "_view_name": "LayoutView",
            "grid_template_rows": null,
            "right": null,
            "justify_content": null,
            "_view_module": "@jupyter-widgets/base",
            "overflow": null,
            "_model_module_version": "1.2.0",
            "_view_count": null,
            "flex_flow": null,
            "width": null,
            "min_width": null,
            "border": null,
            "align_items": null,
            "bottom": null,
            "_model_module": "@jupyter-widgets/base",
            "top": null,
            "grid_column": null,
            "overflow_y": null,
            "overflow_x": null,
            "grid_auto_flow": null,
            "grid_area": null,
            "grid_template_columns": null,
            "flex": null,
            "_model_name": "LayoutModel",
            "justify_items": null,
            "grid_row": null,
            "max_height": null,
            "align_content": null,
            "visibility": null,
            "align_self": null,
            "height": null,
            "min_height": null,
            "padding": null,
            "grid_auto_rows": null,
            "grid_gap": null,
            "max_width": null,
            "order": null,
            "_view_module_version": "1.2.0",
            "grid_template_areas": null,
            "object_position": null,
            "object_fit": null,
            "grid_auto_columns": null,
            "margin": null,
            "display": null,
            "left": null
          }
        }
      }
    }
  },
  "cells": [
    {
      "cell_type": "markdown",
      "metadata": {
        "id": "view-in-github",
        "colab_type": "text"
      },
      "source": [
        "<a href=\"https://colab.research.google.com/github/nicoavilan/Programas-Videos/blob/main/Log%C3%ADstico.ipynb\" target=\"_parent\"><img src=\"https://colab.research.google.com/assets/colab-badge.svg\" alt=\"Open In Colab\"/></a>"
      ]
    },
    {
      "cell_type": "markdown",
      "metadata": {
        "id": "e8opldWv7cV0"
      },
      "source": [
        "Código complementario para el video:\n",
        "\n",
        "[Modelos de poblaciones: Exponencial, Logístico y Gompertz (+COVID19 + Python)](https://www.youtube.com/watch?v=lGvtzgauxPE)\n",
        "\n",
        "\n",
        "\n",
        "[Más videos del mismo canal](https://www.youtube.com/channel/UCaOCO-2LP3Kwlnxtt17SB4g)\n",
        "\n"
      ]
    },
    {
      "cell_type": "markdown",
      "metadata": {
        "id": "ZFfCWdLcFMKp"
      },
      "source": [
        "## Modelo de Logístico  $\\qquad\\frac{dP}{dt}=k\\left(1-\\frac{P}{M}\\right)P$\n",
        "\n",
        "\n",
        "$P(t)=\\frac{M}{1+A e^{-k*t}}$ \n",
        "\n",
        "\n",
        "\n",
        "$\\frac{dP}{dt}=\\frac{A k M e^{k t} }{(A + e^{k t})^2}\\quad$  con  $\\quad A=\\frac{M}{P(0)}$\n",
        "\n",
        "\n"
      ]
    },
    {
      "cell_type": "code",
      "metadata": {
        "colab": {
          "base_uri": "https://localhost:8080/",
          "height": 377,
          "referenced_widgets": [
            "4f90f5a469f1479db2a5ea4830e7ae75",
            "2882fdd538c54aa2b70eae3f0d46578d",
            "2c8075020b644d6a8db0c7ca039fc870",
            "ca128c910b014fecbf397eecc9c29085",
            "6706fec71d14427d93893ba0dad9011c",
            "23cf014163074ff79e454d671e1f0b5c",
            "bf68990ebd7b4d70ba5463fa28104ba3",
            "44dcedf64c294dd8a47752d4a48dede4",
            "a4193a8369a34401baaaccf0a4557eef",
            "29355b873d6c467dbf13a38b8599e427",
            "fca357478a6741b8be10ec20289e04bd",
            "51f56a4ee1d24395a79bd634ccb6b777",
            "b134cb79cb254c0187290ec689419051"
          ]
        },
        "id": "-Kovtw3LhMsw",
        "outputId": "76c40de4-63b3-4ba4-9dd8-355497789d96"
      },
      "source": [
        "from ipywidgets import interactive\n",
        "import matplotlib.pyplot as plt\n",
        "import numpy as np\n",
        "\n",
        "def P(P0,k,M,t):\n",
        "  A=(M/P0)-1\n",
        "  return M/(1+A*np.exp(-k*t))\n",
        "\n",
        "def dP(P0,k,M,t):\n",
        "  A=(M/P0)-1\n",
        "  return (A*np.exp(k*t)* k* M)/(A + np.exp(k* t))**2\n",
        "\n",
        "def f(P0,k,M):\n",
        "  N=300\n",
        "  t=np.linspace(0,10,N)\n",
        "\n",
        "  plt.figure(figsize=(10,4))\n",
        "\n",
        "  plt.subplot(1,2,1)\n",
        "  plt.plot(t,P(P0,k,M,t))\n",
        "  plt.title(\"Población\")\n",
        "\n",
        "  plt.subplot(1,2,2)\n",
        "  plt.plot(t,dP(P0,k,M,t))\n",
        "  plt.title(\"Derivada\")\n",
        "\n",
        "interactive(f, P0=(0,30.),k=(0,5.),M=(100,200))"
      ],
      "execution_count": 22,
      "outputs": [
        {
          "output_type": "display_data",
          "data": {
            "application/vnd.jupyter.widget-view+json": {
              "model_id": "4f90f5a469f1479db2a5ea4830e7ae75",
              "version_minor": 0,
              "version_major": 2
            },
            "text/plain": [
              "interactive(children=(FloatSlider(value=15.0, description='P0', max=30.0), FloatSlider(value=2.5, description=…"
            ]
          },
          "metadata": {
            "tags": []
          }
        }
      ]
    }
  ]
}