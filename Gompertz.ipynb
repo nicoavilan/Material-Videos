{
  "nbformat": 4,
  "nbformat_minor": 0,
  "metadata": {
    "colab": {
      "name": "Gompertz.ipynb",
      "provenance": [],
      "authorship_tag": "ABX9TyPmXQuTss2SEcyOSGt2epEx",
      "include_colab_link": true
    },
    "kernelspec": {
      "name": "python3",
      "display_name": "Python 3"
    },
    "widgets": {
      "application/vnd.jupyter.widget-state+json": {
        "072f87b6e6974c7e828f76913030568a": {
          "model_module": "@jupyter-widgets/controls",
          "model_name": "VBoxModel",
          "state": {
            "_view_name": "VBoxView",
            "_dom_classes": [
              "widget-interact"
            ],
            "_model_name": "VBoxModel",
            "_view_module": "@jupyter-widgets/controls",
            "_model_module_version": "1.5.0",
            "_view_count": null,
            "_view_module_version": "1.5.0",
            "box_style": "",
            "layout": "IPY_MODEL_e8e00b34919b4f43a2731b85f444ecb1",
            "_model_module": "@jupyter-widgets/controls",
            "children": [
              "IPY_MODEL_14eade7aa3334f16a707c904f6d29dba",
              "IPY_MODEL_abf59e556df8484f8e984b7e15ae1f1e",
              "IPY_MODEL_5924b8bc6d6b45ad987c30c104ca2699",
              "IPY_MODEL_173d5bb1fc3a423bb69249e360fcb3db"
            ]
          }
        },
        "e8e00b34919b4f43a2731b85f444ecb1": {
          "model_module": "@jupyter-widgets/base",
          "model_name": "LayoutModel",
          "state": {
            "_view_name": "LayoutView",
            "grid_template_rows": null,
            "right": null,
            "justify_content": null,
            "_view_module": "@jupyter-widgets/base",
            "overflow": null,
            "_model_module_version": "1.2.0",
            "_view_count": null,
            "flex_flow": null,
            "width": null,
            "min_width": null,
            "border": null,
            "align_items": null,
            "bottom": null,
            "_model_module": "@jupyter-widgets/base",
            "top": null,
            "grid_column": null,
            "overflow_y": null,
            "overflow_x": null,
            "grid_auto_flow": null,
            "grid_area": null,
            "grid_template_columns": null,
            "flex": null,
            "_model_name": "LayoutModel",
            "justify_items": null,
            "grid_row": null,
            "max_height": null,
            "align_content": null,
            "visibility": null,
            "align_self": null,
            "height": null,
            "min_height": null,
            "padding": null,
            "grid_auto_rows": null,
            "grid_gap": null,
            "max_width": null,
            "order": null,
            "_view_module_version": "1.2.0",
            "grid_template_areas": null,
            "object_position": null,
            "object_fit": null,
            "grid_auto_columns": null,
            "margin": null,
            "display": null,
            "left": null
          }
        },
        "14eade7aa3334f16a707c904f6d29dba": {
          "model_module": "@jupyter-widgets/controls",
          "model_name": "IntSliderModel",
          "state": {
            "_view_name": "IntSliderView",
            "style": "IPY_MODEL_b3853ae9cdb845988ff6b6d16cca943b",
            "_dom_classes": [],
            "description": "a",
            "step": 1,
            "_model_name": "IntSliderModel",
            "orientation": "horizontal",
            "max": 100,
            "_view_module": "@jupyter-widgets/controls",
            "_model_module_version": "1.5.0",
            "value": 50,
            "_view_count": null,
            "disabled": false,
            "_view_module_version": "1.5.0",
            "min": 0,
            "continuous_update": true,
            "readout_format": "d",
            "description_tooltip": null,
            "readout": true,
            "_model_module": "@jupyter-widgets/controls",
            "layout": "IPY_MODEL_aff9f1bdc77449a5b0e32f12aa5de5ec"
          }
        },
        "abf59e556df8484f8e984b7e15ae1f1e": {
          "model_module": "@jupyter-widgets/controls",
          "model_name": "IntSliderModel",
          "state": {
            "_view_name": "IntSliderView",
            "style": "IPY_MODEL_10b24d7c16b940b7b89f2a76e233bee3",
            "_dom_classes": [],
            "description": "b",
            "step": 1,
            "_model_name": "IntSliderModel",
            "orientation": "horizontal",
            "max": 500,
            "_view_module": "@jupyter-widgets/controls",
            "_model_module_version": "1.5.0",
            "value": 255,
            "_view_count": null,
            "disabled": false,
            "_view_module_version": "1.5.0",
            "min": 10,
            "continuous_update": true,
            "readout_format": "d",
            "description_tooltip": null,
            "readout": true,
            "_model_module": "@jupyter-widgets/controls",
            "layout": "IPY_MODEL_2a1500f241f744c5bd1fb6de1dde2159"
          }
        },
        "5924b8bc6d6b45ad987c30c104ca2699": {
          "model_module": "@jupyter-widgets/controls",
          "model_name": "FloatSliderModel",
          "state": {
            "_view_name": "FloatSliderView",
            "style": "IPY_MODEL_6a2ca4ab3e294595875d699fa677b988",
            "_dom_classes": [],
            "description": "c",
            "step": 0.1,
            "_model_name": "FloatSliderModel",
            "orientation": "horizontal",
            "max": 1.5,
            "_view_module": "@jupyter-widgets/controls",
            "_model_module_version": "1.5.0",
            "value": 0.8999999999999999,
            "_view_count": null,
            "disabled": false,
            "_view_module_version": "1.5.0",
            "min": 0.3,
            "continuous_update": true,
            "readout_format": ".2f",
            "description_tooltip": null,
            "readout": true,
            "_model_module": "@jupyter-widgets/controls",
            "layout": "IPY_MODEL_b3dabb93c69049a283dbcc1c5ec7719c"
          }
        },
        "173d5bb1fc3a423bb69249e360fcb3db": {
          "model_module": "@jupyter-widgets/output",
          "model_name": "OutputModel",
          "state": {
            "_view_name": "OutputView",
            "msg_id": "",
            "_dom_classes": [],
            "_model_name": "OutputModel",
            "outputs": [
              {
                "output_type": "display_data",
                "metadata": {
                  "tags": [],
                  "needs_background": "light"
                },
                "image/png": "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\n",
                "text/plain": "<Figure size 864x360 with 2 Axes>"
              }
            ],
            "_view_module": "@jupyter-widgets/output",
            "_model_module_version": "1.0.0",
            "_view_count": null,
            "_view_module_version": "1.0.0",
            "layout": "IPY_MODEL_2ab09783be3d460bb92579ce6d7f8d27",
            "_model_module": "@jupyter-widgets/output"
          }
        },
        "b3853ae9cdb845988ff6b6d16cca943b": {
          "model_module": "@jupyter-widgets/controls",
          "model_name": "SliderStyleModel",
          "state": {
            "_view_name": "StyleView",
            "handle_color": null,
            "_model_name": "SliderStyleModel",
            "description_width": "",
            "_view_module": "@jupyter-widgets/base",
            "_model_module_version": "1.5.0",
            "_view_count": null,
            "_view_module_version": "1.2.0",
            "_model_module": "@jupyter-widgets/controls"
          }
        },
        "aff9f1bdc77449a5b0e32f12aa5de5ec": {
          "model_module": "@jupyter-widgets/base",
          "model_name": "LayoutModel",
          "state": {
            "_view_name": "LayoutView",
            "grid_template_rows": null,
            "right": null,
            "justify_content": null,
            "_view_module": "@jupyter-widgets/base",
            "overflow": null,
            "_model_module_version": "1.2.0",
            "_view_count": null,
            "flex_flow": null,
            "width": null,
            "min_width": null,
            "border": null,
            "align_items": null,
            "bottom": null,
            "_model_module": "@jupyter-widgets/base",
            "top": null,
            "grid_column": null,
            "overflow_y": null,
            "overflow_x": null,
            "grid_auto_flow": null,
            "grid_area": null,
            "grid_template_columns": null,
            "flex": null,
            "_model_name": "LayoutModel",
            "justify_items": null,
            "grid_row": null,
            "max_height": null,
            "align_content": null,
            "visibility": null,
            "align_self": null,
            "height": null,
            "min_height": null,
            "padding": null,
            "grid_auto_rows": null,
            "grid_gap": null,
            "max_width": null,
            "order": null,
            "_view_module_version": "1.2.0",
            "grid_template_areas": null,
            "object_position": null,
            "object_fit": null,
            "grid_auto_columns": null,
            "margin": null,
            "display": null,
            "left": null
          }
        },
        "10b24d7c16b940b7b89f2a76e233bee3": {
          "model_module": "@jupyter-widgets/controls",
          "model_name": "SliderStyleModel",
          "state": {
            "_view_name": "StyleView",
            "handle_color": null,
            "_model_name": "SliderStyleModel",
            "description_width": "",
            "_view_module": "@jupyter-widgets/base",
            "_model_module_version": "1.5.0",
            "_view_count": null,
            "_view_module_version": "1.2.0",
            "_model_module": "@jupyter-widgets/controls"
          }
        },
        "2a1500f241f744c5bd1fb6de1dde2159": {
          "model_module": "@jupyter-widgets/base",
          "model_name": "LayoutModel",
          "state": {
            "_view_name": "LayoutView",
            "grid_template_rows": null,
            "right": null,
            "justify_content": null,
            "_view_module": "@jupyter-widgets/base",
            "overflow": null,
            "_model_module_version": "1.2.0",
            "_view_count": null,
            "flex_flow": null,
            "width": null,
            "min_width": null,
            "border": null,
            "align_items": null,
            "bottom": null,
            "_model_module": "@jupyter-widgets/base",
            "top": null,
            "grid_column": null,
            "overflow_y": null,
            "overflow_x": null,
            "grid_auto_flow": null,
            "grid_area": null,
            "grid_template_columns": null,
            "flex": null,
            "_model_name": "LayoutModel",
            "justify_items": null,
            "grid_row": null,
            "max_height": null,
            "align_content": null,
            "visibility": null,
            "align_self": null,
            "height": null,
            "min_height": null,
            "padding": null,
            "grid_auto_rows": null,
            "grid_gap": null,
            "max_width": null,
            "order": null,
            "_view_module_version": "1.2.0",
            "grid_template_areas": null,
            "object_position": null,
            "object_fit": null,
            "grid_auto_columns": null,
            "margin": null,
            "display": null,
            "left": null
          }
        },
        "6a2ca4ab3e294595875d699fa677b988": {
          "model_module": "@jupyter-widgets/controls",
          "model_name": "SliderStyleModel",
          "state": {
            "_view_name": "StyleView",
            "handle_color": null,
            "_model_name": "SliderStyleModel",
            "description_width": "",
            "_view_module": "@jupyter-widgets/base",
            "_model_module_version": "1.5.0",
            "_view_count": null,
            "_view_module_version": "1.2.0",
            "_model_module": "@jupyter-widgets/controls"
          }
        },
        "b3dabb93c69049a283dbcc1c5ec7719c": {
          "model_module": "@jupyter-widgets/base",
          "model_name": "LayoutModel",
          "state": {
            "_view_name": "LayoutView",
            "grid_template_rows": null,
            "right": null,
            "justify_content": null,
            "_view_module": "@jupyter-widgets/base",
            "overflow": null,
            "_model_module_version": "1.2.0",
            "_view_count": null,
            "flex_flow": null,
            "width": null,
            "min_width": null,
            "border": null,
            "align_items": null,
            "bottom": null,
            "_model_module": "@jupyter-widgets/base",
            "top": null,
            "grid_column": null,
            "overflow_y": null,
            "overflow_x": null,
            "grid_auto_flow": null,
            "grid_area": null,
            "grid_template_columns": null,
            "flex": null,
            "_model_name": "LayoutModel",
            "justify_items": null,
            "grid_row": null,
            "max_height": null,
            "align_content": null,
            "visibility": null,
            "align_self": null,
            "height": null,
            "min_height": null,
            "padding": null,
            "grid_auto_rows": null,
            "grid_gap": null,
            "max_width": null,
            "order": null,
            "_view_module_version": "1.2.0",
            "grid_template_areas": null,
            "object_position": null,
            "object_fit": null,
            "grid_auto_columns": null,
            "margin": null,
            "display": null,
            "left": null
          }
        },
        "2ab09783be3d460bb92579ce6d7f8d27": {
          "model_module": "@jupyter-widgets/base",
          "model_name": "LayoutModel",
          "state": {
            "_view_name": "LayoutView",
            "grid_template_rows": null,
            "right": null,
            "justify_content": null,
            "_view_module": "@jupyter-widgets/base",
            "overflow": null,
            "_model_module_version": "1.2.0",
            "_view_count": null,
            "flex_flow": null,
            "width": null,
            "min_width": null,
            "border": null,
            "align_items": null,
            "bottom": null,
            "_model_module": "@jupyter-widgets/base",
            "top": null,
            "grid_column": null,
            "overflow_y": null,
            "overflow_x": null,
            "grid_auto_flow": null,
            "grid_area": null,
            "grid_template_columns": null,
            "flex": null,
            "_model_name": "LayoutModel",
            "justify_items": null,
            "grid_row": null,
            "max_height": null,
            "align_content": null,
            "visibility": null,
            "align_self": null,
            "height": null,
            "min_height": null,
            "padding": null,
            "grid_auto_rows": null,
            "grid_gap": null,
            "max_width": null,
            "order": null,
            "_view_module_version": "1.2.0",
            "grid_template_areas": null,
            "object_position": null,
            "object_fit": null,
            "grid_auto_columns": null,
            "margin": null,
            "display": null,
            "left": null
          }
        }
      }
    }
  },
  "cells": [
    {
      "cell_type": "markdown",
      "metadata": {
        "id": "view-in-github",
        "colab_type": "text"
      },
      "source": [
        "<a href=\"https://colab.research.google.com/github/nicoavilan/Material-Videos/blob/main/Gompertz.ipynb\" target=\"_parent\"><img src=\"https://colab.research.google.com/assets/colab-badge.svg\" alt=\"Open In Colab\"/></a>"
      ]
    },
    {
      "cell_type": "markdown",
      "metadata": {
        "id": "ZFfCWdLcFMKp"
      },
      "source": [
        "## Modelo de Gompertz  $\\qquad\\frac{dP}{dt}=ke^{-ct}P$\r\n",
        "\r\n",
        "$\\frac{dP}{dt}=abce^{-ct}e^{-be^{-ct}}$\r\n",
        "\r\n",
        "$P(t)=ae^{-be^{-ct}}$\r\n"
      ]
    },
    {
      "cell_type": "code",
      "metadata": {
        "colab": {
          "base_uri": "https://localhost:8080/",
          "height": 432,
          "referenced_widgets": [
            "072f87b6e6974c7e828f76913030568a",
            "e8e00b34919b4f43a2731b85f444ecb1",
            "14eade7aa3334f16a707c904f6d29dba",
            "abf59e556df8484f8e984b7e15ae1f1e",
            "5924b8bc6d6b45ad987c30c104ca2699",
            "173d5bb1fc3a423bb69249e360fcb3db",
            "b3853ae9cdb845988ff6b6d16cca943b",
            "aff9f1bdc77449a5b0e32f12aa5de5ec",
            "10b24d7c16b940b7b89f2a76e233bee3",
            "2a1500f241f744c5bd1fb6de1dde2159",
            "6a2ca4ab3e294595875d699fa677b988",
            "b3dabb93c69049a283dbcc1c5ec7719c",
            "2ab09783be3d460bb92579ce6d7f8d27"
          ]
        },
        "id": "-Kovtw3LhMsw",
        "outputId": "ed7928bf-2478-454e-e10f-b46ad7a1bc9f"
      },
      "source": [
        "from ipywidgets import interactive # Librería para widgets en python\r\n",
        "import matplotlib.pyplot as plt\r\n",
        "import numpy as np\r\n",
        "\r\n",
        "def P(a,b,c,t):\r\n",
        "  return a*np.exp(-b*np.exp(-c*t))\r\n",
        "\r\n",
        "def dP(a,b,c,t):\r\n",
        "  return a*b*c*np.exp(-c*t)*np.exp(-b*np.exp(-c*t))\r\n",
        "\r\n",
        "def f(a,b,c):\r\n",
        "  N=300\r\n",
        "  t=np.linspace(0,50,N)\r\n",
        "\r\n",
        "  plt.figure(figsize=(12,5))\r\n",
        "\r\n",
        "  plt.subplot(1,2,1)\r\n",
        "  plt.plot(t,P(a,b,c,t))\r\n",
        "  plt.title(\"Población\")\r\n",
        "\r\n",
        "  plt.subplot(1,2,2)\r\n",
        "  plt.plot(t,dP(a,b,c,t))\r\n",
        "  plt.title(\"Derivada\")\r\n",
        "  plt.ylim(0,70)\r\n",
        "  plt.show()\r\n",
        "\r\n",
        "interactive(f, a=(0,100),b=(10,500),c=(.3,1.5))"
      ],
      "execution_count": 52,
      "outputs": [
        {
          "output_type": "display_data",
          "data": {
            "application/vnd.jupyter.widget-view+json": {
              "model_id": "072f87b6e6974c7e828f76913030568a",
              "version_minor": 0,
              "version_major": 2
            },
            "text/plain": [
              "interactive(children=(IntSlider(value=50, description='a'), IntSlider(value=255, description='b', max=500, min…"
            ]
          },
          "metadata": {
            "tags": []
          }
        }
      ]
    }
  ]
}