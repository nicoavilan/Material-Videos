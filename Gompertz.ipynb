{
  "nbformat": 4,
  "nbformat_minor": 0,
  "metadata": {
    "colab": {
      "name": "Gompertz.ipynb",
      "provenance": [],
      "authorship_tag": "ABX9TyMSw9AaVtSvRB+WAFonoPxH",
      "include_colab_link": true
    },
    "kernelspec": {
      "name": "python3",
      "display_name": "Python 3"
    },
    "widgets": {
      "application/vnd.jupyter.widget-state+json": {
        "03c7d00e3bb94d959e759c5b44effda0": {
          "model_module": "@jupyter-widgets/controls",
          "model_name": "VBoxModel",
          "state": {
            "_view_name": "VBoxView",
            "_dom_classes": [
              "widget-interact"
            ],
            "_model_name": "VBoxModel",
            "_view_module": "@jupyter-widgets/controls",
            "_model_module_version": "1.5.0",
            "_view_count": null,
            "_view_module_version": "1.5.0",
            "box_style": "",
            "layout": "IPY_MODEL_88ddf68920534f3da89eec92d1a71773",
            "_model_module": "@jupyter-widgets/controls",
            "children": [
              "IPY_MODEL_6d8abc33f90d45cda49d308fef07dbad",
              "IPY_MODEL_a2acc55178464a8f995d97b842acc407",
              "IPY_MODEL_d8bbcbbc78164bfeaffc345b45568241",
              "IPY_MODEL_4ef8f30791ce4ebb9b5e5af25fd76d24"
            ]
          }
        },
        "88ddf68920534f3da89eec92d1a71773": {
          "model_module": "@jupyter-widgets/base",
          "model_name": "LayoutModel",
          "state": {
            "_view_name": "LayoutView",
            "grid_template_rows": null,
            "right": null,
            "justify_content": null,
            "_view_module": "@jupyter-widgets/base",
            "overflow": null,
            "_model_module_version": "1.2.0",
            "_view_count": null,
            "flex_flow": null,
            "width": null,
            "min_width": null,
            "border": null,
            "align_items": null,
            "bottom": null,
            "_model_module": "@jupyter-widgets/base",
            "top": null,
            "grid_column": null,
            "overflow_y": null,
            "overflow_x": null,
            "grid_auto_flow": null,
            "grid_area": null,
            "grid_template_columns": null,
            "flex": null,
            "_model_name": "LayoutModel",
            "justify_items": null,
            "grid_row": null,
            "max_height": null,
            "align_content": null,
            "visibility": null,
            "align_self": null,
            "height": null,
            "min_height": null,
            "padding": null,
            "grid_auto_rows": null,
            "grid_gap": null,
            "max_width": null,
            "order": null,
            "_view_module_version": "1.2.0",
            "grid_template_areas": null,
            "object_position": null,
            "object_fit": null,
            "grid_auto_columns": null,
            "margin": null,
            "display": null,
            "left": null
          }
        },
        "6d8abc33f90d45cda49d308fef07dbad": {
          "model_module": "@jupyter-widgets/controls",
          "model_name": "IntSliderModel",
          "state": {
            "_view_name": "IntSliderView",
            "style": "IPY_MODEL_c6b8cbd62d214644a4892f75aab1a206",
            "_dom_classes": [],
            "description": "a",
            "step": 1,
            "_model_name": "IntSliderModel",
            "orientation": "horizontal",
            "max": 100,
            "_view_module": "@jupyter-widgets/controls",
            "_model_module_version": "1.5.0",
            "value": 92,
            "_view_count": null,
            "disabled": false,
            "_view_module_version": "1.5.0",
            "min": 0,
            "continuous_update": true,
            "readout_format": "d",
            "description_tooltip": null,
            "readout": true,
            "_model_module": "@jupyter-widgets/controls",
            "layout": "IPY_MODEL_9f4e3feebc31430a95626a27109eda4b"
          }
        },
        "a2acc55178464a8f995d97b842acc407": {
          "model_module": "@jupyter-widgets/controls",
          "model_name": "IntSliderModel",
          "state": {
            "_view_name": "IntSliderView",
            "style": "IPY_MODEL_341e9b71fc2f4d7bb75132334dfb99c8",
            "_dom_classes": [],
            "description": "b",
            "step": 1,
            "_model_name": "IntSliderModel",
            "orientation": "horizontal",
            "max": 500,
            "_view_module": "@jupyter-widgets/controls",
            "_model_module_version": "1.5.0",
            "value": 434,
            "_view_count": null,
            "disabled": false,
            "_view_module_version": "1.5.0",
            "min": 10,
            "continuous_update": true,
            "readout_format": "d",
            "description_tooltip": null,
            "readout": true,
            "_model_module": "@jupyter-widgets/controls",
            "layout": "IPY_MODEL_5275ef5382da4b149b479ff84e9f3067"
          }
        },
        "d8bbcbbc78164bfeaffc345b45568241": {
          "model_module": "@jupyter-widgets/controls",
          "model_name": "FloatSliderModel",
          "state": {
            "_view_name": "FloatSliderView",
            "style": "IPY_MODEL_16dfda8a88714b609fb8a7eeb74bd003",
            "_dom_classes": [],
            "description": "c",
            "step": 0.1,
            "_model_name": "FloatSliderModel",
            "orientation": "horizontal",
            "max": 1.5,
            "_view_module": "@jupyter-widgets/controls",
            "_model_module_version": "1.5.0",
            "value": 1.2,
            "_view_count": null,
            "disabled": false,
            "_view_module_version": "1.5.0",
            "min": 0.2,
            "continuous_update": true,
            "readout_format": ".2f",
            "description_tooltip": null,
            "readout": true,
            "_model_module": "@jupyter-widgets/controls",
            "layout": "IPY_MODEL_cf0552aecc66463a846d9beacdb009cc"
          }
        },
        "4ef8f30791ce4ebb9b5e5af25fd76d24": {
          "model_module": "@jupyter-widgets/output",
          "model_name": "OutputModel",
          "state": {
            "_view_name": "OutputView",
            "msg_id": "",
            "_dom_classes": [],
            "_model_name": "OutputModel",
            "outputs": [
              {
                "output_type": "display_data",
                "metadata": {
                  "tags": [],
                  "needs_background": "light"
                },
                "image/png": "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\n",
                "text/plain": "<Figure size 720x288 with 2 Axes>"
              }
            ],
            "_view_module": "@jupyter-widgets/output",
            "_model_module_version": "1.0.0",
            "_view_count": null,
            "_view_module_version": "1.0.0",
            "layout": "IPY_MODEL_55e86a7076ed46e99f2c227582d6334b",
            "_model_module": "@jupyter-widgets/output"
          }
        },
        "c6b8cbd62d214644a4892f75aab1a206": {
          "model_module": "@jupyter-widgets/controls",
          "model_name": "SliderStyleModel",
          "state": {
            "_view_name": "StyleView",
            "handle_color": null,
            "_model_name": "SliderStyleModel",
            "description_width": "",
            "_view_module": "@jupyter-widgets/base",
            "_model_module_version": "1.5.0",
            "_view_count": null,
            "_view_module_version": "1.2.0",
            "_model_module": "@jupyter-widgets/controls"
          }
        },
        "9f4e3feebc31430a95626a27109eda4b": {
          "model_module": "@jupyter-widgets/base",
          "model_name": "LayoutModel",
          "state": {
            "_view_name": "LayoutView",
            "grid_template_rows": null,
            "right": null,
            "justify_content": null,
            "_view_module": "@jupyter-widgets/base",
            "overflow": null,
            "_model_module_version": "1.2.0",
            "_view_count": null,
            "flex_flow": null,
            "width": null,
            "min_width": null,
            "border": null,
            "align_items": null,
            "bottom": null,
            "_model_module": "@jupyter-widgets/base",
            "top": null,
            "grid_column": null,
            "overflow_y": null,
            "overflow_x": null,
            "grid_auto_flow": null,
            "grid_area": null,
            "grid_template_columns": null,
            "flex": null,
            "_model_name": "LayoutModel",
            "justify_items": null,
            "grid_row": null,
            "max_height": null,
            "align_content": null,
            "visibility": null,
            "align_self": null,
            "height": null,
            "min_height": null,
            "padding": null,
            "grid_auto_rows": null,
            "grid_gap": null,
            "max_width": null,
            "order": null,
            "_view_module_version": "1.2.0",
            "grid_template_areas": null,
            "object_position": null,
            "object_fit": null,
            "grid_auto_columns": null,
            "margin": null,
            "display": null,
            "left": null
          }
        },
        "341e9b71fc2f4d7bb75132334dfb99c8": {
          "model_module": "@jupyter-widgets/controls",
          "model_name": "SliderStyleModel",
          "state": {
            "_view_name": "StyleView",
            "handle_color": null,
            "_model_name": "SliderStyleModel",
            "description_width": "",
            "_view_module": "@jupyter-widgets/base",
            "_model_module_version": "1.5.0",
            "_view_count": null,
            "_view_module_version": "1.2.0",
            "_model_module": "@jupyter-widgets/controls"
          }
        },
        "5275ef5382da4b149b479ff84e9f3067": {
          "model_module": "@jupyter-widgets/base",
          "model_name": "LayoutModel",
          "state": {
            "_view_name": "LayoutView",
            "grid_template_rows": null,
            "right": null,
            "justify_content": null,
            "_view_module": "@jupyter-widgets/base",
            "overflow": null,
            "_model_module_version": "1.2.0",
            "_view_count": null,
            "flex_flow": null,
            "width": null,
            "min_width": null,
            "border": null,
            "align_items": null,
            "bottom": null,
            "_model_module": "@jupyter-widgets/base",
            "top": null,
            "grid_column": null,
            "overflow_y": null,
            "overflow_x": null,
            "grid_auto_flow": null,
            "grid_area": null,
            "grid_template_columns": null,
            "flex": null,
            "_model_name": "LayoutModel",
            "justify_items": null,
            "grid_row": null,
            "max_height": null,
            "align_content": null,
            "visibility": null,
            "align_self": null,
            "height": null,
            "min_height": null,
            "padding": null,
            "grid_auto_rows": null,
            "grid_gap": null,
            "max_width": null,
            "order": null,
            "_view_module_version": "1.2.0",
            "grid_template_areas": null,
            "object_position": null,
            "object_fit": null,
            "grid_auto_columns": null,
            "margin": null,
            "display": null,
            "left": null
          }
        },
        "16dfda8a88714b609fb8a7eeb74bd003": {
          "model_module": "@jupyter-widgets/controls",
          "model_name": "SliderStyleModel",
          "state": {
            "_view_name": "StyleView",
            "handle_color": null,
            "_model_name": "SliderStyleModel",
            "description_width": "",
            "_view_module": "@jupyter-widgets/base",
            "_model_module_version": "1.5.0",
            "_view_count": null,
            "_view_module_version": "1.2.0",
            "_model_module": "@jupyter-widgets/controls"
          }
        },
        "cf0552aecc66463a846d9beacdb009cc": {
          "model_module": "@jupyter-widgets/base",
          "model_name": "LayoutModel",
          "state": {
            "_view_name": "LayoutView",
            "grid_template_rows": null,
            "right": null,
            "justify_content": null,
            "_view_module": "@jupyter-widgets/base",
            "overflow": null,
            "_model_module_version": "1.2.0",
            "_view_count": null,
            "flex_flow": null,
            "width": null,
            "min_width": null,
            "border": null,
            "align_items": null,
            "bottom": null,
            "_model_module": "@jupyter-widgets/base",
            "top": null,
            "grid_column": null,
            "overflow_y": null,
            "overflow_x": null,
            "grid_auto_flow": null,
            "grid_area": null,
            "grid_template_columns": null,
            "flex": null,
            "_model_name": "LayoutModel",
            "justify_items": null,
            "grid_row": null,
            "max_height": null,
            "align_content": null,
            "visibility": null,
            "align_self": null,
            "height": null,
            "min_height": null,
            "padding": null,
            "grid_auto_rows": null,
            "grid_gap": null,
            "max_width": null,
            "order": null,
            "_view_module_version": "1.2.0",
            "grid_template_areas": null,
            "object_position": null,
            "object_fit": null,
            "grid_auto_columns": null,
            "margin": null,
            "display": null,
            "left": null
          }
        },
        "55e86a7076ed46e99f2c227582d6334b": {
          "model_module": "@jupyter-widgets/base",
          "model_name": "LayoutModel",
          "state": {
            "_view_name": "LayoutView",
            "grid_template_rows": null,
            "right": null,
            "justify_content": null,
            "_view_module": "@jupyter-widgets/base",
            "overflow": null,
            "_model_module_version": "1.2.0",
            "_view_count": null,
            "flex_flow": null,
            "width": null,
            "min_width": null,
            "border": null,
            "align_items": null,
            "bottom": null,
            "_model_module": "@jupyter-widgets/base",
            "top": null,
            "grid_column": null,
            "overflow_y": null,
            "overflow_x": null,
            "grid_auto_flow": null,
            "grid_area": null,
            "grid_template_columns": null,
            "flex": null,
            "_model_name": "LayoutModel",
            "justify_items": null,
            "grid_row": null,
            "max_height": null,
            "align_content": null,
            "visibility": null,
            "align_self": null,
            "height": null,
            "min_height": null,
            "padding": null,
            "grid_auto_rows": null,
            "grid_gap": null,
            "max_width": null,
            "order": null,
            "_view_module_version": "1.2.0",
            "grid_template_areas": null,
            "object_position": null,
            "object_fit": null,
            "grid_auto_columns": null,
            "margin": null,
            "display": null,
            "left": null
          }
        }
      }
    }
  },
  "cells": [
    {
      "cell_type": "markdown",
      "metadata": {
        "id": "view-in-github",
        "colab_type": "text"
      },
      "source": [
        "<a href=\"https://colab.research.google.com/github/nicoavilan/Programas-Videos/blob/main/Gompertz.ipynb\" target=\"_parent\"><img src=\"https://colab.research.google.com/assets/colab-badge.svg\" alt=\"Open In Colab\"/></a>"
      ]
    },
    {
      "cell_type": "markdown",
      "metadata": {
        "id": "ZFfCWdLcFMKp"
      },
      "source": [
        "## Modelo de Gompertz  $\\qquad\\frac{dP}{dt}=ke^{-ct}P$\r\n",
        "\r\n",
        "$P(t)=ae^{-be^{-ct}}$\r\n",
        "\r\n",
        "$\\frac{dP}{dt}=abce^{-ct}e^{-be^{-ct}}$\r\n",
        "\r\n",
        "\r\n"
      ]
    },
    {
      "cell_type": "code",
      "metadata": {
        "colab": {
          "base_uri": "https://localhost:8080/",
          "height": 377,
          "referenced_widgets": [
            "03c7d00e3bb94d959e759c5b44effda0",
            "88ddf68920534f3da89eec92d1a71773",
            "6d8abc33f90d45cda49d308fef07dbad",
            "a2acc55178464a8f995d97b842acc407",
            "d8bbcbbc78164bfeaffc345b45568241",
            "4ef8f30791ce4ebb9b5e5af25fd76d24",
            "c6b8cbd62d214644a4892f75aab1a206",
            "9f4e3feebc31430a95626a27109eda4b",
            "341e9b71fc2f4d7bb75132334dfb99c8",
            "5275ef5382da4b149b479ff84e9f3067",
            "16dfda8a88714b609fb8a7eeb74bd003",
            "cf0552aecc66463a846d9beacdb009cc",
            "55e86a7076ed46e99f2c227582d6334b"
          ]
        },
        "id": "-Kovtw3LhMsw",
        "outputId": "53553456-91e3-48ea-f8a7-a6e72db426d0"
      },
      "source": [
        "from ipywidgets import interactive\r\n",
        "import matplotlib.pyplot as plt\r\n",
        "import numpy as np\r\n",
        "\r\n",
        "def P(a,b,c,t):\r\n",
        "  return a*np.exp(-b*np.exp(-c*t))\r\n",
        "\r\n",
        "def dP(a,b,c,t):\r\n",
        "  return a*b*c*np.exp(-c*t)*np.exp(-b*np.exp(-c*t))\r\n",
        "\r\n",
        "def f(a,b,c):\r\n",
        "  N=300\r\n",
        "  t=np.linspace(0,50,N)\r\n",
        "\r\n",
        "  plt.figure(figsize=(10,4))\r\n",
        "\r\n",
        "  plt.subplot(1,2,1)\r\n",
        "  plt.plot(t,P(a,b,c,t))\r\n",
        "  plt.title(\"Población\")\r\n",
        "\r\n",
        "  plt.subplot(1,2,2)\r\n",
        "  plt.plot(t,dP(a,b,c,t))\r\n",
        "  plt.title(\"Derivada\")\r\n",
        "  plt.ylim(0,70)\r\n",
        "  plt.show()\r\n",
        "\r\n",
        "interactive(f, a=(0,100),b=(10,500),c=(.2,1.5))"
      ],
      "execution_count": 56,
      "outputs": [
        {
          "output_type": "display_data",
          "data": {
            "application/vnd.jupyter.widget-view+json": {
              "model_id": "03c7d00e3bb94d959e759c5b44effda0",
              "version_minor": 0,
              "version_major": 2
            },
            "text/plain": [
              "interactive(children=(IntSlider(value=50, description='a'), IntSlider(value=255, description='b', max=500, min…"
            ]
          },
          "metadata": {
            "tags": []
          }
        }
      ]
    }
  ]
}