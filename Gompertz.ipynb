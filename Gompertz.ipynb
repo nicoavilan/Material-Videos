{
  "nbformat": 4,
  "nbformat_minor": 0,
  "metadata": {
    "colab": {
      "name": "Gompertz.ipynb",
      "provenance": [],
      "authorship_tag": "ABX9TyMNDvzM6Xut4rVRODDw0MmD",
      "include_colab_link": true
    },
    "kernelspec": {
      "name": "python3",
      "display_name": "Python 3"
    },
    "widgets": {
      "application/vnd.jupyter.widget-state+json": {
        "86370c0dadc1446dbb604af4500d6826": {
          "model_module": "@jupyter-widgets/controls",
          "model_name": "VBoxModel",
          "state": {
            "_view_name": "VBoxView",
            "_dom_classes": [
              "widget-interact"
            ],
            "_model_name": "VBoxModel",
            "_view_module": "@jupyter-widgets/controls",
            "_model_module_version": "1.5.0",
            "_view_count": null,
            "_view_module_version": "1.5.0",
            "box_style": "",
            "layout": "IPY_MODEL_97ebac3bdd6747d59aa5666b4b765ea5",
            "_model_module": "@jupyter-widgets/controls",
            "children": [
              "IPY_MODEL_c6b744d2d1b34b91a210e358400f4496",
              "IPY_MODEL_627b1d1512f14dc2b7b014f6389bf3ba",
              "IPY_MODEL_26d50866baea4506a39793f5f8fe005b",
              "IPY_MODEL_a87dd0527df04da4b371298f99c39e24"
            ]
          }
        },
        "97ebac3bdd6747d59aa5666b4b765ea5": {
          "model_module": "@jupyter-widgets/base",
          "model_name": "LayoutModel",
          "state": {
            "_view_name": "LayoutView",
            "grid_template_rows": null,
            "right": null,
            "justify_content": null,
            "_view_module": "@jupyter-widgets/base",
            "overflow": null,
            "_model_module_version": "1.2.0",
            "_view_count": null,
            "flex_flow": null,
            "width": null,
            "min_width": null,
            "border": null,
            "align_items": null,
            "bottom": null,
            "_model_module": "@jupyter-widgets/base",
            "top": null,
            "grid_column": null,
            "overflow_y": null,
            "overflow_x": null,
            "grid_auto_flow": null,
            "grid_area": null,
            "grid_template_columns": null,
            "flex": null,
            "_model_name": "LayoutModel",
            "justify_items": null,
            "grid_row": null,
            "max_height": null,
            "align_content": null,
            "visibility": null,
            "align_self": null,
            "height": null,
            "min_height": null,
            "padding": null,
            "grid_auto_rows": null,
            "grid_gap": null,
            "max_width": null,
            "order": null,
            "_view_module_version": "1.2.0",
            "grid_template_areas": null,
            "object_position": null,
            "object_fit": null,
            "grid_auto_columns": null,
            "margin": null,
            "display": null,
            "left": null
          }
        },
        "c6b744d2d1b34b91a210e358400f4496": {
          "model_module": "@jupyter-widgets/controls",
          "model_name": "IntSliderModel",
          "state": {
            "_view_name": "IntSliderView",
            "style": "IPY_MODEL_eb5bf52c5b744698b2122112ff759c30",
            "_dom_classes": [],
            "description": "a",
            "step": 1,
            "_model_name": "IntSliderModel",
            "orientation": "horizontal",
            "max": 100,
            "_view_module": "@jupyter-widgets/controls",
            "_model_module_version": "1.5.0",
            "value": 50,
            "_view_count": null,
            "disabled": false,
            "_view_module_version": "1.5.0",
            "min": 0,
            "continuous_update": true,
            "readout_format": "d",
            "description_tooltip": null,
            "readout": true,
            "_model_module": "@jupyter-widgets/controls",
            "layout": "IPY_MODEL_d59b98bf5a2d4938ae4fb25cbe8d9c37"
          }
        },
        "627b1d1512f14dc2b7b014f6389bf3ba": {
          "model_module": "@jupyter-widgets/controls",
          "model_name": "IntSliderModel",
          "state": {
            "_view_name": "IntSliderView",
            "style": "IPY_MODEL_fca2ba636d92419789b9d84bab6352c4",
            "_dom_classes": [],
            "description": "b",
            "step": 1,
            "_model_name": "IntSliderModel",
            "orientation": "horizontal",
            "max": 500,
            "_view_module": "@jupyter-widgets/controls",
            "_model_module_version": "1.5.0",
            "value": 255,
            "_view_count": null,
            "disabled": false,
            "_view_module_version": "1.5.0",
            "min": 10,
            "continuous_update": true,
            "readout_format": "d",
            "description_tooltip": null,
            "readout": true,
            "_model_module": "@jupyter-widgets/controls",
            "layout": "IPY_MODEL_232bbb1ebbba4f70aebf4c7bd84fef85"
          }
        },
        "26d50866baea4506a39793f5f8fe005b": {
          "model_module": "@jupyter-widgets/controls",
          "model_name": "FloatSliderModel",
          "state": {
            "_view_name": "FloatSliderView",
            "style": "IPY_MODEL_3cc0269c4a3d4fbf955ed11df81ee3ec",
            "_dom_classes": [],
            "description": "c",
            "step": 0.1,
            "_model_name": "FloatSliderModel",
            "orientation": "horizontal",
            "max": 2,
            "_view_module": "@jupyter-widgets/controls",
            "_model_module_version": "1.5.0",
            "value": 1.8,
            "_view_count": null,
            "disabled": false,
            "_view_module_version": "1.5.0",
            "min": 0,
            "continuous_update": true,
            "readout_format": ".2f",
            "description_tooltip": null,
            "readout": true,
            "_model_module": "@jupyter-widgets/controls",
            "layout": "IPY_MODEL_af3e83b4d4b447898338bbdf3d2affdc"
          }
        },
        "a87dd0527df04da4b371298f99c39e24": {
          "model_module": "@jupyter-widgets/output",
          "model_name": "OutputModel",
          "state": {
            "_view_name": "OutputView",
            "msg_id": "",
            "_dom_classes": [],
            "_model_name": "OutputModel",
            "outputs": [
              {
                "output_type": "display_data",
                "metadata": {
                  "tags": [],
                  "needs_background": "light"
                },
                "image/png": "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\n",
                "text/plain": "<Figure size 720x288 with 2 Axes>"
              }
            ],
            "_view_module": "@jupyter-widgets/output",
            "_model_module_version": "1.0.0",
            "_view_count": null,
            "_view_module_version": "1.0.0",
            "layout": "IPY_MODEL_71f6b96bbb05483b831cd3ebc4f750e2",
            "_model_module": "@jupyter-widgets/output"
          }
        },
        "eb5bf52c5b744698b2122112ff759c30": {
          "model_module": "@jupyter-widgets/controls",
          "model_name": "SliderStyleModel",
          "state": {
            "_view_name": "StyleView",
            "handle_color": null,
            "_model_name": "SliderStyleModel",
            "description_width": "",
            "_view_module": "@jupyter-widgets/base",
            "_model_module_version": "1.5.0",
            "_view_count": null,
            "_view_module_version": "1.2.0",
            "_model_module": "@jupyter-widgets/controls"
          }
        },
        "d59b98bf5a2d4938ae4fb25cbe8d9c37": {
          "model_module": "@jupyter-widgets/base",
          "model_name": "LayoutModel",
          "state": {
            "_view_name": "LayoutView",
            "grid_template_rows": null,
            "right": null,
            "justify_content": null,
            "_view_module": "@jupyter-widgets/base",
            "overflow": null,
            "_model_module_version": "1.2.0",
            "_view_count": null,
            "flex_flow": null,
            "width": null,
            "min_width": null,
            "border": null,
            "align_items": null,
            "bottom": null,
            "_model_module": "@jupyter-widgets/base",
            "top": null,
            "grid_column": null,
            "overflow_y": null,
            "overflow_x": null,
            "grid_auto_flow": null,
            "grid_area": null,
            "grid_template_columns": null,
            "flex": null,
            "_model_name": "LayoutModel",
            "justify_items": null,
            "grid_row": null,
            "max_height": null,
            "align_content": null,
            "visibility": null,
            "align_self": null,
            "height": null,
            "min_height": null,
            "padding": null,
            "grid_auto_rows": null,
            "grid_gap": null,
            "max_width": null,
            "order": null,
            "_view_module_version": "1.2.0",
            "grid_template_areas": null,
            "object_position": null,
            "object_fit": null,
            "grid_auto_columns": null,
            "margin": null,
            "display": null,
            "left": null
          }
        },
        "fca2ba636d92419789b9d84bab6352c4": {
          "model_module": "@jupyter-widgets/controls",
          "model_name": "SliderStyleModel",
          "state": {
            "_view_name": "StyleView",
            "handle_color": null,
            "_model_name": "SliderStyleModel",
            "description_width": "",
            "_view_module": "@jupyter-widgets/base",
            "_model_module_version": "1.5.0",
            "_view_count": null,
            "_view_module_version": "1.2.0",
            "_model_module": "@jupyter-widgets/controls"
          }
        },
        "232bbb1ebbba4f70aebf4c7bd84fef85": {
          "model_module": "@jupyter-widgets/base",
          "model_name": "LayoutModel",
          "state": {
            "_view_name": "LayoutView",
            "grid_template_rows": null,
            "right": null,
            "justify_content": null,
            "_view_module": "@jupyter-widgets/base",
            "overflow": null,
            "_model_module_version": "1.2.0",
            "_view_count": null,
            "flex_flow": null,
            "width": null,
            "min_width": null,
            "border": null,
            "align_items": null,
            "bottom": null,
            "_model_module": "@jupyter-widgets/base",
            "top": null,
            "grid_column": null,
            "overflow_y": null,
            "overflow_x": null,
            "grid_auto_flow": null,
            "grid_area": null,
            "grid_template_columns": null,
            "flex": null,
            "_model_name": "LayoutModel",
            "justify_items": null,
            "grid_row": null,
            "max_height": null,
            "align_content": null,
            "visibility": null,
            "align_self": null,
            "height": null,
            "min_height": null,
            "padding": null,
            "grid_auto_rows": null,
            "grid_gap": null,
            "max_width": null,
            "order": null,
            "_view_module_version": "1.2.0",
            "grid_template_areas": null,
            "object_position": null,
            "object_fit": null,
            "grid_auto_columns": null,
            "margin": null,
            "display": null,
            "left": null
          }
        },
        "3cc0269c4a3d4fbf955ed11df81ee3ec": {
          "model_module": "@jupyter-widgets/controls",
          "model_name": "SliderStyleModel",
          "state": {
            "_view_name": "StyleView",
            "handle_color": null,
            "_model_name": "SliderStyleModel",
            "description_width": "",
            "_view_module": "@jupyter-widgets/base",
            "_model_module_version": "1.5.0",
            "_view_count": null,
            "_view_module_version": "1.2.0",
            "_model_module": "@jupyter-widgets/controls"
          }
        },
        "af3e83b4d4b447898338bbdf3d2affdc": {
          "model_module": "@jupyter-widgets/base",
          "model_name": "LayoutModel",
          "state": {
            "_view_name": "LayoutView",
            "grid_template_rows": null,
            "right": null,
            "justify_content": null,
            "_view_module": "@jupyter-widgets/base",
            "overflow": null,
            "_model_module_version": "1.2.0",
            "_view_count": null,
            "flex_flow": null,
            "width": null,
            "min_width": null,
            "border": null,
            "align_items": null,
            "bottom": null,
            "_model_module": "@jupyter-widgets/base",
            "top": null,
            "grid_column": null,
            "overflow_y": null,
            "overflow_x": null,
            "grid_auto_flow": null,
            "grid_area": null,
            "grid_template_columns": null,
            "flex": null,
            "_model_name": "LayoutModel",
            "justify_items": null,
            "grid_row": null,
            "max_height": null,
            "align_content": null,
            "visibility": null,
            "align_self": null,
            "height": null,
            "min_height": null,
            "padding": null,
            "grid_auto_rows": null,
            "grid_gap": null,
            "max_width": null,
            "order": null,
            "_view_module_version": "1.2.0",
            "grid_template_areas": null,
            "object_position": null,
            "object_fit": null,
            "grid_auto_columns": null,
            "margin": null,
            "display": null,
            "left": null
          }
        },
        "71f6b96bbb05483b831cd3ebc4f750e2": {
          "model_module": "@jupyter-widgets/base",
          "model_name": "LayoutModel",
          "state": {
            "_view_name": "LayoutView",
            "grid_template_rows": null,
            "right": null,
            "justify_content": null,
            "_view_module": "@jupyter-widgets/base",
            "overflow": null,
            "_model_module_version": "1.2.0",
            "_view_count": null,
            "flex_flow": null,
            "width": null,
            "min_width": null,
            "border": null,
            "align_items": null,
            "bottom": null,
            "_model_module": "@jupyter-widgets/base",
            "top": null,
            "grid_column": null,
            "overflow_y": null,
            "overflow_x": null,
            "grid_auto_flow": null,
            "grid_area": null,
            "grid_template_columns": null,
            "flex": null,
            "_model_name": "LayoutModel",
            "justify_items": null,
            "grid_row": null,
            "max_height": null,
            "align_content": null,
            "visibility": null,
            "align_self": null,
            "height": null,
            "min_height": null,
            "padding": null,
            "grid_auto_rows": null,
            "grid_gap": null,
            "max_width": null,
            "order": null,
            "_view_module_version": "1.2.0",
            "grid_template_areas": null,
            "object_position": null,
            "object_fit": null,
            "grid_auto_columns": null,
            "margin": null,
            "display": null,
            "left": null
          }
        }
      }
    }
  },
  "cells": [
    {
      "cell_type": "markdown",
      "metadata": {
        "id": "view-in-github",
        "colab_type": "text"
      },
      "source": [
        "<a href=\"https://colab.research.google.com/github/nicoavilan/Programas-Videos/blob/main/Gompertz.ipynb\" target=\"_parent\"><img src=\"https://colab.research.google.com/assets/colab-badge.svg\" alt=\"Open In Colab\"/></a>"
      ]
    },
    {
      "cell_type": "markdown",
      "metadata": {
        "id": "e8opldWv7cV0"
      },
      "source": [
        "Código usado en el video:\r\n",
        "\r\n",
        "[Modelos de poblaciones: Exponencial, Logístico y Gompertz (+COVID19 + Python)](https://www.youtube.com/watch?v=lGvtzgauxPE)\r\n",
        "\r\n",
        "\r\n",
        "\r\n",
        "[Más videos del mismo canal](https://www.youtube.com/channel/UCaOCO-2LP3Kwlnxtt17SB4g)\r\n",
        "\r\n"
      ]
    },
    {
      "cell_type": "markdown",
      "metadata": {
        "id": "ZFfCWdLcFMKp"
      },
      "source": [
        "## Modelo de Gompertz  $\\qquad\\frac{dP}{dt}=ke^{-ct}P$\r\n",
        "\r\n",
        "$P(t)=ae^{-be^{-ct}}$\r\n",
        "\r\n",
        "$\\frac{dP}{dt}=abce^{-ct}e^{-be^{-ct}}$\r\n",
        "\r\n",
        "\r\n"
      ]
    },
    {
      "cell_type": "code",
      "metadata": {
        "colab": {
          "base_uri": "https://localhost:8080/",
          "height": 377,
          "referenced_widgets": [
            "86370c0dadc1446dbb604af4500d6826",
            "97ebac3bdd6747d59aa5666b4b765ea5",
            "c6b744d2d1b34b91a210e358400f4496",
            "627b1d1512f14dc2b7b014f6389bf3ba",
            "26d50866baea4506a39793f5f8fe005b",
            "a87dd0527df04da4b371298f99c39e24",
            "eb5bf52c5b744698b2122112ff759c30",
            "d59b98bf5a2d4938ae4fb25cbe8d9c37",
            "fca2ba636d92419789b9d84bab6352c4",
            "232bbb1ebbba4f70aebf4c7bd84fef85",
            "3cc0269c4a3d4fbf955ed11df81ee3ec",
            "af3e83b4d4b447898338bbdf3d2affdc",
            "71f6b96bbb05483b831cd3ebc4f750e2"
          ]
        },
        "id": "-Kovtw3LhMsw",
        "outputId": "249db382-7a68-4bcc-db05-ea31e90f094b"
      },
      "source": [
        "from ipywidgets import interactive\r\n",
        "import matplotlib.pyplot as plt\r\n",
        "import numpy as np\r\n",
        "\r\n",
        "def P(a,b,c,t):\r\n",
        "  return a*np.exp(-b*np.exp(-c*t))\r\n",
        "\r\n",
        "def dP(a,b,c,t):\r\n",
        "  return a*b*c*np.exp(-c*t)*np.exp(-b*np.exp(-c*t))\r\n",
        "\r\n",
        "def f(a,b,c):\r\n",
        "  N=300\r\n",
        "  t=np.linspace(0,50,N)\r\n",
        "\r\n",
        "  plt.figure(figsize=(10,4))\r\n",
        "\r\n",
        "  plt.subplot(1,2,1)\r\n",
        "  plt.plot(t,P(a,b,c,t))\r\n",
        "  plt.title(\"Población\")\r\n",
        "\r\n",
        "  plt.subplot(1,2,2)\r\n",
        "  plt.plot(t,dP(a,b,c,t))\r\n",
        "  plt.title(\"Derivada\")\r\n",
        "  plt.ylim(0,70)\r\n",
        "  plt.show()\r\n",
        "\r\n",
        "interactive(f, a=(0,100),b=(10,500),c=(0.,2.))"
      ],
      "execution_count": 4,
      "outputs": [
        {
          "output_type": "display_data",
          "data": {
            "application/vnd.jupyter.widget-view+json": {
              "model_id": "86370c0dadc1446dbb604af4500d6826",
              "version_minor": 0,
              "version_major": 2
            },
            "text/plain": [
              "interactive(children=(IntSlider(value=50, description='a'), IntSlider(value=255, description='b', max=500, min…"
            ]
          },
          "metadata": {
            "tags": []
          }
        }
      ]
    }
  ]
}