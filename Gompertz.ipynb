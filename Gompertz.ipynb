{
  "nbformat": 4,
  "nbformat_minor": 0,
  "metadata": {
    "colab": {
      "name": "Gompertz.ipynb",
      "provenance": [],
      "authorship_tag": "ABX9TyPjFEKViz2tX3s9CspdqNVt",
      "include_colab_link": true
    },
    "kernelspec": {
      "name": "python3",
      "display_name": "Python 3"
    },
    "widgets": {
      "application/vnd.jupyter.widget-state+json": {
        "4d29b832059145f9a170f1390ae4184f": {
          "model_module": "@jupyter-widgets/controls",
          "model_name": "VBoxModel",
          "state": {
            "_view_name": "VBoxView",
            "_dom_classes": [
              "widget-interact"
            ],
            "_model_name": "VBoxModel",
            "_view_module": "@jupyter-widgets/controls",
            "_model_module_version": "1.5.0",
            "_view_count": null,
            "_view_module_version": "1.5.0",
            "box_style": "",
            "layout": "IPY_MODEL_7b618e99d99b4c0ea467930157cbf8eb",
            "_model_module": "@jupyter-widgets/controls",
            "children": [
              "IPY_MODEL_f5f06aabde164ec9bce33afdec43627b",
              "IPY_MODEL_30e2e5fc588545e282d2da8698a51e75",
              "IPY_MODEL_d9c8aed3cccf4df3b0cb9762248a3ad3",
              "IPY_MODEL_b5ef6f244d36455b99f504b72518b11f"
            ]
          }
        },
        "7b618e99d99b4c0ea467930157cbf8eb": {
          "model_module": "@jupyter-widgets/base",
          "model_name": "LayoutModel",
          "state": {
            "_view_name": "LayoutView",
            "grid_template_rows": null,
            "right": null,
            "justify_content": null,
            "_view_module": "@jupyter-widgets/base",
            "overflow": null,
            "_model_module_version": "1.2.0",
            "_view_count": null,
            "flex_flow": null,
            "width": null,
            "min_width": null,
            "border": null,
            "align_items": null,
            "bottom": null,
            "_model_module": "@jupyter-widgets/base",
            "top": null,
            "grid_column": null,
            "overflow_y": null,
            "overflow_x": null,
            "grid_auto_flow": null,
            "grid_area": null,
            "grid_template_columns": null,
            "flex": null,
            "_model_name": "LayoutModel",
            "justify_items": null,
            "grid_row": null,
            "max_height": null,
            "align_content": null,
            "visibility": null,
            "align_self": null,
            "height": null,
            "min_height": null,
            "padding": null,
            "grid_auto_rows": null,
            "grid_gap": null,
            "max_width": null,
            "order": null,
            "_view_module_version": "1.2.0",
            "grid_template_areas": null,
            "object_position": null,
            "object_fit": null,
            "grid_auto_columns": null,
            "margin": null,
            "display": null,
            "left": null
          }
        },
        "f5f06aabde164ec9bce33afdec43627b": {
          "model_module": "@jupyter-widgets/controls",
          "model_name": "IntSliderModel",
          "state": {
            "_view_name": "IntSliderView",
            "style": "IPY_MODEL_ba27c69ea78641b4a6dd67bbfa04ad7a",
            "_dom_classes": [],
            "description": "a",
            "step": 1,
            "_model_name": "IntSliderModel",
            "orientation": "horizontal",
            "max": 100,
            "_view_module": "@jupyter-widgets/controls",
            "_model_module_version": "1.5.0",
            "value": 50,
            "_view_count": null,
            "disabled": false,
            "_view_module_version": "1.5.0",
            "min": 0,
            "continuous_update": true,
            "readout_format": "d",
            "description_tooltip": null,
            "readout": true,
            "_model_module": "@jupyter-widgets/controls",
            "layout": "IPY_MODEL_7d5d2ecb208b43f59fd8160971708cdd"
          }
        },
        "30e2e5fc588545e282d2da8698a51e75": {
          "model_module": "@jupyter-widgets/controls",
          "model_name": "IntSliderModel",
          "state": {
            "_view_name": "IntSliderView",
            "style": "IPY_MODEL_d8ab730f7dbf4820a4285e84c89c9f60",
            "_dom_classes": [],
            "description": "b",
            "step": 1,
            "_model_name": "IntSliderModel",
            "orientation": "horizontal",
            "max": 500,
            "_view_module": "@jupyter-widgets/controls",
            "_model_module_version": "1.5.0",
            "value": 255,
            "_view_count": null,
            "disabled": false,
            "_view_module_version": "1.5.0",
            "min": 10,
            "continuous_update": true,
            "readout_format": "d",
            "description_tooltip": null,
            "readout": true,
            "_model_module": "@jupyter-widgets/controls",
            "layout": "IPY_MODEL_e5e2211274604c89b7463fa796599ae1"
          }
        },
        "d9c8aed3cccf4df3b0cb9762248a3ad3": {
          "model_module": "@jupyter-widgets/controls",
          "model_name": "FloatSliderModel",
          "state": {
            "_view_name": "FloatSliderView",
            "style": "IPY_MODEL_7c24a030ffd34dc08af04ab54e3cc0e7",
            "_dom_classes": [],
            "description": "c",
            "step": 0.1,
            "_model_name": "FloatSliderModel",
            "orientation": "horizontal",
            "max": 1.5,
            "_view_module": "@jupyter-widgets/controls",
            "_model_module_version": "1.5.0",
            "value": 0.8500000000000001,
            "_view_count": null,
            "disabled": false,
            "_view_module_version": "1.5.0",
            "min": 0.2,
            "continuous_update": true,
            "readout_format": ".2f",
            "description_tooltip": null,
            "readout": true,
            "_model_module": "@jupyter-widgets/controls",
            "layout": "IPY_MODEL_edc914f596ed479588107476acb4f546"
          }
        },
        "b5ef6f244d36455b99f504b72518b11f": {
          "model_module": "@jupyter-widgets/output",
          "model_name": "OutputModel",
          "state": {
            "_view_name": "OutputView",
            "msg_id": "",
            "_dom_classes": [],
            "_model_name": "OutputModel",
            "outputs": [
              {
                "output_type": "display_data",
                "metadata": {
                  "tags": [],
                  "needs_background": "light"
                },
                "image/png": "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\n",
                "text/plain": "<Figure size 720x288 with 2 Axes>"
              }
            ],
            "_view_module": "@jupyter-widgets/output",
            "_model_module_version": "1.0.0",
            "_view_count": null,
            "_view_module_version": "1.0.0",
            "layout": "IPY_MODEL_fbb9ea8bbc2b461490cab046b9be4865",
            "_model_module": "@jupyter-widgets/output"
          }
        },
        "ba27c69ea78641b4a6dd67bbfa04ad7a": {
          "model_module": "@jupyter-widgets/controls",
          "model_name": "SliderStyleModel",
          "state": {
            "_view_name": "StyleView",
            "handle_color": null,
            "_model_name": "SliderStyleModel",
            "description_width": "",
            "_view_module": "@jupyter-widgets/base",
            "_model_module_version": "1.5.0",
            "_view_count": null,
            "_view_module_version": "1.2.0",
            "_model_module": "@jupyter-widgets/controls"
          }
        },
        "7d5d2ecb208b43f59fd8160971708cdd": {
          "model_module": "@jupyter-widgets/base",
          "model_name": "LayoutModel",
          "state": {
            "_view_name": "LayoutView",
            "grid_template_rows": null,
            "right": null,
            "justify_content": null,
            "_view_module": "@jupyter-widgets/base",
            "overflow": null,
            "_model_module_version": "1.2.0",
            "_view_count": null,
            "flex_flow": null,
            "width": null,
            "min_width": null,
            "border": null,
            "align_items": null,
            "bottom": null,
            "_model_module": "@jupyter-widgets/base",
            "top": null,
            "grid_column": null,
            "overflow_y": null,
            "overflow_x": null,
            "grid_auto_flow": null,
            "grid_area": null,
            "grid_template_columns": null,
            "flex": null,
            "_model_name": "LayoutModel",
            "justify_items": null,
            "grid_row": null,
            "max_height": null,
            "align_content": null,
            "visibility": null,
            "align_self": null,
            "height": null,
            "min_height": null,
            "padding": null,
            "grid_auto_rows": null,
            "grid_gap": null,
            "max_width": null,
            "order": null,
            "_view_module_version": "1.2.0",
            "grid_template_areas": null,
            "object_position": null,
            "object_fit": null,
            "grid_auto_columns": null,
            "margin": null,
            "display": null,
            "left": null
          }
        },
        "d8ab730f7dbf4820a4285e84c89c9f60": {
          "model_module": "@jupyter-widgets/controls",
          "model_name": "SliderStyleModel",
          "state": {
            "_view_name": "StyleView",
            "handle_color": null,
            "_model_name": "SliderStyleModel",
            "description_width": "",
            "_view_module": "@jupyter-widgets/base",
            "_model_module_version": "1.5.0",
            "_view_count": null,
            "_view_module_version": "1.2.0",
            "_model_module": "@jupyter-widgets/controls"
          }
        },
        "e5e2211274604c89b7463fa796599ae1": {
          "model_module": "@jupyter-widgets/base",
          "model_name": "LayoutModel",
          "state": {
            "_view_name": "LayoutView",
            "grid_template_rows": null,
            "right": null,
            "justify_content": null,
            "_view_module": "@jupyter-widgets/base",
            "overflow": null,
            "_model_module_version": "1.2.0",
            "_view_count": null,
            "flex_flow": null,
            "width": null,
            "min_width": null,
            "border": null,
            "align_items": null,
            "bottom": null,
            "_model_module": "@jupyter-widgets/base",
            "top": null,
            "grid_column": null,
            "overflow_y": null,
            "overflow_x": null,
            "grid_auto_flow": null,
            "grid_area": null,
            "grid_template_columns": null,
            "flex": null,
            "_model_name": "LayoutModel",
            "justify_items": null,
            "grid_row": null,
            "max_height": null,
            "align_content": null,
            "visibility": null,
            "align_self": null,
            "height": null,
            "min_height": null,
            "padding": null,
            "grid_auto_rows": null,
            "grid_gap": null,
            "max_width": null,
            "order": null,
            "_view_module_version": "1.2.0",
            "grid_template_areas": null,
            "object_position": null,
            "object_fit": null,
            "grid_auto_columns": null,
            "margin": null,
            "display": null,
            "left": null
          }
        },
        "7c24a030ffd34dc08af04ab54e3cc0e7": {
          "model_module": "@jupyter-widgets/controls",
          "model_name": "SliderStyleModel",
          "state": {
            "_view_name": "StyleView",
            "handle_color": null,
            "_model_name": "SliderStyleModel",
            "description_width": "",
            "_view_module": "@jupyter-widgets/base",
            "_model_module_version": "1.5.0",
            "_view_count": null,
            "_view_module_version": "1.2.0",
            "_model_module": "@jupyter-widgets/controls"
          }
        },
        "edc914f596ed479588107476acb4f546": {
          "model_module": "@jupyter-widgets/base",
          "model_name": "LayoutModel",
          "state": {
            "_view_name": "LayoutView",
            "grid_template_rows": null,
            "right": null,
            "justify_content": null,
            "_view_module": "@jupyter-widgets/base",
            "overflow": null,
            "_model_module_version": "1.2.0",
            "_view_count": null,
            "flex_flow": null,
            "width": null,
            "min_width": null,
            "border": null,
            "align_items": null,
            "bottom": null,
            "_model_module": "@jupyter-widgets/base",
            "top": null,
            "grid_column": null,
            "overflow_y": null,
            "overflow_x": null,
            "grid_auto_flow": null,
            "grid_area": null,
            "grid_template_columns": null,
            "flex": null,
            "_model_name": "LayoutModel",
            "justify_items": null,
            "grid_row": null,
            "max_height": null,
            "align_content": null,
            "visibility": null,
            "align_self": null,
            "height": null,
            "min_height": null,
            "padding": null,
            "grid_auto_rows": null,
            "grid_gap": null,
            "max_width": null,
            "order": null,
            "_view_module_version": "1.2.0",
            "grid_template_areas": null,
            "object_position": null,
            "object_fit": null,
            "grid_auto_columns": null,
            "margin": null,
            "display": null,
            "left": null
          }
        },
        "fbb9ea8bbc2b461490cab046b9be4865": {
          "model_module": "@jupyter-widgets/base",
          "model_name": "LayoutModel",
          "state": {
            "_view_name": "LayoutView",
            "grid_template_rows": null,
            "right": null,
            "justify_content": null,
            "_view_module": "@jupyter-widgets/base",
            "overflow": null,
            "_model_module_version": "1.2.0",
            "_view_count": null,
            "flex_flow": null,
            "width": null,
            "min_width": null,
            "border": null,
            "align_items": null,
            "bottom": null,
            "_model_module": "@jupyter-widgets/base",
            "top": null,
            "grid_column": null,
            "overflow_y": null,
            "overflow_x": null,
            "grid_auto_flow": null,
            "grid_area": null,
            "grid_template_columns": null,
            "flex": null,
            "_model_name": "LayoutModel",
            "justify_items": null,
            "grid_row": null,
            "max_height": null,
            "align_content": null,
            "visibility": null,
            "align_self": null,
            "height": null,
            "min_height": null,
            "padding": null,
            "grid_auto_rows": null,
            "grid_gap": null,
            "max_width": null,
            "order": null,
            "_view_module_version": "1.2.0",
            "grid_template_areas": null,
            "object_position": null,
            "object_fit": null,
            "grid_auto_columns": null,
            "margin": null,
            "display": null,
            "left": null
          }
        }
      }
    }
  },
  "cells": [
    {
      "cell_type": "markdown",
      "metadata": {
        "id": "view-in-github",
        "colab_type": "text"
      },
      "source": [
        "<a href=\"https://colab.research.google.com/github/nicoavilan/Programas-Videos/blob/main/Gompertz.ipynb\" target=\"_parent\"><img src=\"https://colab.research.google.com/assets/colab-badge.svg\" alt=\"Open In Colab\"/></a>"
      ]
    },
    {
      "cell_type": "markdown",
      "metadata": {
        "id": "e8opldWv7cV0"
      },
      "source": [
        "Código usado en el video:\r\n",
        "\r\n",
        "[Modelos de poblaciones: Exponencial, Logístico y Gompertz (+COVID19 + Python)](https://www.youtube.com/watch?v=lGvtzgauxPE)\r\n",
        "\r\n",
        "\r\n",
        "\r\n",
        "[Más videos del mismo canal](https://www.youtube.com/channel/UCaOCO-2LP3Kwlnxtt17SB4g)\r\n",
        "\r\n"
      ]
    },
    {
      "cell_type": "markdown",
      "metadata": {
        "id": "ZFfCWdLcFMKp"
      },
      "source": [
        "## Modelo de Gompertz  $\\qquad\\frac{dP}{dt}=ke^{-ct}P$\r\n",
        "\r\n",
        "$P(t)=ae^{-be^{-ct}}$\r\n",
        "\r\n",
        "$\\frac{dP}{dt}=abce^{-ct}e^{-be^{-ct}}$\r\n",
        "\r\n",
        "\r\n"
      ]
    },
    {
      "cell_type": "code",
      "metadata": {
        "colab": {
          "base_uri": "https://localhost:8080/",
          "height": 377,
          "referenced_widgets": [
            "4d29b832059145f9a170f1390ae4184f",
            "7b618e99d99b4c0ea467930157cbf8eb",
            "f5f06aabde164ec9bce33afdec43627b",
            "30e2e5fc588545e282d2da8698a51e75",
            "d9c8aed3cccf4df3b0cb9762248a3ad3",
            "b5ef6f244d36455b99f504b72518b11f",
            "ba27c69ea78641b4a6dd67bbfa04ad7a",
            "7d5d2ecb208b43f59fd8160971708cdd",
            "d8ab730f7dbf4820a4285e84c89c9f60",
            "e5e2211274604c89b7463fa796599ae1",
            "7c24a030ffd34dc08af04ab54e3cc0e7",
            "edc914f596ed479588107476acb4f546",
            "fbb9ea8bbc2b461490cab046b9be4865"
          ]
        },
        "id": "-Kovtw3LhMsw",
        "outputId": "79718bda-04a0-4d70-f897-8199fd820d82"
      },
      "source": [
        "from ipywidgets import interactive\r\n",
        "import matplotlib.pyplot as plt\r\n",
        "import numpy as np\r\n",
        "\r\n",
        "def P(a,b,c,t):\r\n",
        "  return a*np.exp(-b*np.exp(-c*t))\r\n",
        "\r\n",
        "def dP(a,b,c,t):\r\n",
        "  return a*b*c*np.exp(-c*t)*np.exp(-b*np.exp(-c*t))\r\n",
        "\r\n",
        "def f(a,b,c):\r\n",
        "  N=300\r\n",
        "  t=np.linspace(0,50,N)\r\n",
        "\r\n",
        "  plt.figure(figsize=(10,4))\r\n",
        "\r\n",
        "  plt.subplot(1,2,1)\r\n",
        "  plt.plot(t,P(a,b,c,t))\r\n",
        "  plt.title(\"Población\")\r\n",
        "\r\n",
        "  plt.subplot(1,2,2)\r\n",
        "  plt.plot(t,dP(a,b,c,t))\r\n",
        "  plt.title(\"Derivada\")\r\n",
        "  plt.ylim(0,70)\r\n",
        "  plt.show()\r\n",
        "\r\n",
        "interactive(f, a=(0,100),b=(10,500),c=(.2,1.5))"
      ],
      "execution_count": null,
      "outputs": [
        {
          "output_type": "display_data",
          "data": {
            "application/vnd.jupyter.widget-view+json": {
              "model_id": "4d29b832059145f9a170f1390ae4184f",
              "version_minor": 0,
              "version_major": 2
            },
            "text/plain": [
              "interactive(children=(IntSlider(value=50, description='a'), IntSlider(value=255, description='b', max=500, min…"
            ]
          },
          "metadata": {
            "tags": []
          }
        }
      ]
    }
  ]
}